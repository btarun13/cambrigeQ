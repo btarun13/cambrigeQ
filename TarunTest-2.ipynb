{
  "nbformat": 4,
  "nbformat_minor": 0,
  "metadata": {
    "colab": {
      "name": "TarunTest.ipynb",
      "provenance": [],
      "collapsed_sections": []
    },
    "kernelspec": {
      "name": "python3",
      "display_name": "Python 3"
    },
    "language_info": {
      "name": "python"
    }
  },
  "cells": [
    {
      "cell_type": "code",
      "source": [
        "import pandas as pd\n",
        "from keras.models import Sequential\n",
        "from keras.layers import Dense, InputLayer\n",
        "from sklearn.preprocessing import OneHotEncoder\n",
        "import matplotlib.pyplot as plt\n",
        "import numpy as np"
      ],
      "metadata": {
        "id": "3kFIMf9e6FMd"
      },
      "execution_count": 46,
      "outputs": []
    },
    {
      "cell_type": "markdown",
      "source": [
        "# New section"
      ],
      "metadata": {
        "id": "6NfEKTs-OjTs"
      }
    },
    {
      "cell_type": "code",
      "source": [
        "train = pd.read_csv(\"train.csv\")\n",
        "test = pd.read_csv(\"test.csv\")\n",
        "\n",
        "onehot_encoder = OneHotEncoder(sparse=False)\n",
        "onehot_encoder.fit(train.Y.values.reshape(-1,1))\n",
        "\n",
        "train_y = onehot_encoder.transform(train.Y.values.reshape(-1,1))\n",
        "test_y = onehot_encoder.transform(test.Y.values.reshape(-1,1))\n",
        "train_X = train.drop(\"Y\", axis=1)\n",
        "test_X = test.drop(\"Y\", axis=1)"
      ],
      "metadata": {
        "id": "9kBkTLH88EEF"
      },
      "execution_count": 47,
      "outputs": []
    },
    {
      "cell_type": "code",
      "source": [
        "class NNFactory:\n",
        "  def __init__(self):\n",
        "    self.model_list = []\n",
        "  \n",
        "  def add_model(self,lst):\n",
        "    model = Sequential()\n",
        "    model.add(InputLayer(393))\n",
        "    for i in lst:\n",
        "      model.add(Dense(i, activation='relu'))\n",
        "    model.add(Dense(10, activation='softmax'))\n",
        "    model.compile(loss='categorical_crossentropy', optimizer='adam', metrics=['accuracy'])\n",
        "    self.model_list.append(model)\n",
        "\n",
        "  def summary(self):\n",
        "    for model in self.model_list:\n",
        "      print(model.summary())\n",
        "\n",
        "  def train(self):\n",
        "    self.history_list = []\n",
        "    for model in self.model_list:\n",
        "      history = model.fit(\n",
        "          train_X, train_y, \n",
        "          validation_data=(test_X, test_y), \n",
        "          epochs=10,\n",
        "          batch_size=128)\n",
        "      self.history_list.append(history)\n",
        "\n",
        "  def evaluate(self):\n",
        "    self.train_acc_list = []\n",
        "    self.test_acc_list = []\n",
        "    for model in self.model_list:\n",
        "      _, train_acc = model.evaluate(train_X, train_y, verbose=0)\n",
        "      _, test_acc = model.evaluate(test_X, test_y, verbose=0)\n",
        "      self.train_acc_list.append(train_acc)\n",
        "      self.test_acc_list.append(test_acc)\n",
        "\n",
        "    print(f\"Average Training Accuracy: {np.array(self.train_acc_list).mean(0).round(3)}\")\n",
        "    print(f\"Average Test Accuracy: {np.array(self.test_acc_list).mean(0).round(3)}\")"
      ],
      "metadata": {
        "id": "9PeU98qUCILT"
      },
      "execution_count": 49,
      "outputs": []
    },
    {
      "cell_type": "code",
      "source": [
        "nn = NNFactory()\n",
        "a= nn.add_model([200])\n",
        "b = nn.add_model([400])\n",
        "c = nn.add_model([400, 300])\n",
        "d = nn.add_model([400, 300, 200])\n",
        "e =nn.add_model([400, 300, 200, 100])"
      ],
      "metadata": {
        "id": "C2VQA_ytGFZA"
      },
      "execution_count": 50,
      "outputs": []
    },
    {
      "cell_type": "code",
      "source": [
        "nn.summary()"
      ],
      "metadata": {
        "colab": {
          "base_uri": "https://localhost:8080/"
        },
        "id": "8KGWBFQMPKZ6",
        "outputId": "b1144bf5-d372-4193-e2db-20d981c88059"
      },
      "execution_count": 51,
      "outputs": [
        {
          "output_type": "stream",
          "name": "stdout",
          "text": [
            "Model: \"sequential_25\"\n",
            "_________________________________________________________________\n",
            " Layer (type)                Output Shape              Param #   \n",
            "=================================================================\n",
            " dense_86 (Dense)            (None, 200)               78800     \n",
            "                                                                 \n",
            " dense_87 (Dense)            (None, 10)                2010      \n",
            "                                                                 \n",
            "=================================================================\n",
            "Total params: 80,810\n",
            "Trainable params: 80,810\n",
            "Non-trainable params: 0\n",
            "_________________________________________________________________\n",
            "None\n",
            "Model: \"sequential_26\"\n",
            "_________________________________________________________________\n",
            " Layer (type)                Output Shape              Param #   \n",
            "=================================================================\n",
            " dense_88 (Dense)            (None, 400)               157600    \n",
            "                                                                 \n",
            " dense_89 (Dense)            (None, 10)                4010      \n",
            "                                                                 \n",
            "=================================================================\n",
            "Total params: 161,610\n",
            "Trainable params: 161,610\n",
            "Non-trainable params: 0\n",
            "_________________________________________________________________\n",
            "None\n",
            "Model: \"sequential_27\"\n",
            "_________________________________________________________________\n",
            " Layer (type)                Output Shape              Param #   \n",
            "=================================================================\n",
            " dense_90 (Dense)            (None, 400)               157600    \n",
            "                                                                 \n",
            " dense_91 (Dense)            (None, 300)               120300    \n",
            "                                                                 \n",
            " dense_92 (Dense)            (None, 10)                3010      \n",
            "                                                                 \n",
            "=================================================================\n",
            "Total params: 280,910\n",
            "Trainable params: 280,910\n",
            "Non-trainable params: 0\n",
            "_________________________________________________________________\n",
            "None\n",
            "Model: \"sequential_28\"\n",
            "_________________________________________________________________\n",
            " Layer (type)                Output Shape              Param #   \n",
            "=================================================================\n",
            " dense_93 (Dense)            (None, 400)               157600    \n",
            "                                                                 \n",
            " dense_94 (Dense)            (None, 300)               120300    \n",
            "                                                                 \n",
            " dense_95 (Dense)            (None, 200)               60200     \n",
            "                                                                 \n",
            " dense_96 (Dense)            (None, 10)                2010      \n",
            "                                                                 \n",
            "=================================================================\n",
            "Total params: 340,110\n",
            "Trainable params: 340,110\n",
            "Non-trainable params: 0\n",
            "_________________________________________________________________\n",
            "None\n",
            "Model: \"sequential_29\"\n",
            "_________________________________________________________________\n",
            " Layer (type)                Output Shape              Param #   \n",
            "=================================================================\n",
            " dense_97 (Dense)            (None, 400)               157600    \n",
            "                                                                 \n",
            " dense_98 (Dense)            (None, 300)               120300    \n",
            "                                                                 \n",
            " dense_99 (Dense)            (None, 200)               60200     \n",
            "                                                                 \n",
            " dense_100 (Dense)           (None, 100)               20100     \n",
            "                                                                 \n",
            " dense_101 (Dense)           (None, 10)                1010      \n",
            "                                                                 \n",
            "=================================================================\n",
            "Total params: 359,210\n",
            "Trainable params: 359,210\n",
            "Non-trainable params: 0\n",
            "_________________________________________________________________\n",
            "None\n"
          ]
        }
      ]
    },
    {
      "cell_type": "code",
      "source": [
        "nn.train()"
      ],
      "metadata": {
        "colab": {
          "base_uri": "https://localhost:8080/"
        },
        "id": "ZGbT1nCNGJqH",
        "outputId": "60801810-4539-406c-82a8-265811b31fa6"
      },
      "execution_count": 52,
      "outputs": [
        {
          "output_type": "stream",
          "name": "stdout",
          "text": [
            "Epoch 1/10\n",
            "235/235 [==============================] - 2s 6ms/step - loss: 1.2682 - accuracy: 0.5899 - val_loss: 1.3549 - val_accuracy: 0.5743\n",
            "Epoch 2/10\n",
            "235/235 [==============================] - 1s 5ms/step - loss: 0.7915 - accuracy: 0.7694 - val_loss: 1.1755 - val_accuracy: 0.6568\n",
            "Epoch 3/10\n",
            "235/235 [==============================] - 1s 5ms/step - loss: 0.6189 - accuracy: 0.8205 - val_loss: 1.1230 - val_accuracy: 0.6773\n",
            "Epoch 4/10\n",
            "235/235 [==============================] - 1s 5ms/step - loss: 0.5306 - accuracy: 0.8439 - val_loss: 1.0585 - val_accuracy: 0.6961\n",
            "Epoch 5/10\n",
            "235/235 [==============================] - 1s 5ms/step - loss: 0.4697 - accuracy: 0.8615 - val_loss: 1.0488 - val_accuracy: 0.7039\n",
            "Epoch 6/10\n",
            "235/235 [==============================] - 1s 5ms/step - loss: 0.4259 - accuracy: 0.8739 - val_loss: 1.0643 - val_accuracy: 0.7103\n",
            "Epoch 7/10\n",
            "235/235 [==============================] - 1s 5ms/step - loss: 0.3904 - accuracy: 0.8845 - val_loss: 0.9984 - val_accuracy: 0.7238\n",
            "Epoch 8/10\n",
            "235/235 [==============================] - 1s 4ms/step - loss: 0.3612 - accuracy: 0.8922 - val_loss: 0.9973 - val_accuracy: 0.7269\n",
            "Epoch 9/10\n",
            "235/235 [==============================] - 1s 5ms/step - loss: 0.3389 - accuracy: 0.8991 - val_loss: 0.9641 - val_accuracy: 0.7354\n",
            "Epoch 10/10\n",
            "235/235 [==============================] - 1s 4ms/step - loss: 0.3144 - accuracy: 0.9066 - val_loss: 0.9773 - val_accuracy: 0.7358\n",
            "Epoch 1/10\n",
            "235/235 [==============================] - 2s 7ms/step - loss: 1.1515 - accuracy: 0.6326 - val_loss: 1.2400 - val_accuracy: 0.6360\n",
            "Epoch 2/10\n",
            "235/235 [==============================] - 2s 6ms/step - loss: 0.6745 - accuracy: 0.8035 - val_loss: 1.1631 - val_accuracy: 0.6735\n",
            "Epoch 3/10\n",
            "235/235 [==============================] - 1s 6ms/step - loss: 0.5247 - accuracy: 0.8465 - val_loss: 1.0246 - val_accuracy: 0.7046\n",
            "Epoch 4/10\n",
            "235/235 [==============================] - 1s 6ms/step - loss: 0.4406 - accuracy: 0.8718 - val_loss: 0.9833 - val_accuracy: 0.7219\n",
            "Epoch 5/10\n",
            "235/235 [==============================] - 1s 6ms/step - loss: 0.3823 - accuracy: 0.8869 - val_loss: 0.9657 - val_accuracy: 0.7320\n",
            "Epoch 6/10\n",
            "235/235 [==============================] - 1s 6ms/step - loss: 0.3388 - accuracy: 0.8994 - val_loss: 0.9251 - val_accuracy: 0.7443\n",
            "Epoch 7/10\n",
            "235/235 [==============================] - 1s 6ms/step - loss: 0.3073 - accuracy: 0.9096 - val_loss: 0.9537 - val_accuracy: 0.7430\n",
            "Epoch 8/10\n",
            "235/235 [==============================] - 1s 6ms/step - loss: 0.2787 - accuracy: 0.9185 - val_loss: 0.9250 - val_accuracy: 0.7503\n",
            "Epoch 9/10\n",
            "235/235 [==============================] - 1s 6ms/step - loss: 0.2562 - accuracy: 0.9242 - val_loss: 0.8572 - val_accuracy: 0.7645\n",
            "Epoch 10/10\n",
            "235/235 [==============================] - 1s 6ms/step - loss: 0.2337 - accuracy: 0.9316 - val_loss: 0.8767 - val_accuracy: 0.7646\n",
            "Epoch 1/10\n",
            "235/235 [==============================] - 3s 12ms/step - loss: 0.9732 - accuracy: 0.6843 - val_loss: 1.0552 - val_accuracy: 0.6848\n",
            "Epoch 2/10\n",
            "235/235 [==============================] - 2s 9ms/step - loss: 0.4872 - accuracy: 0.8516 - val_loss: 0.9726 - val_accuracy: 0.7245\n",
            "Epoch 3/10\n",
            "235/235 [==============================] - 2s 9ms/step - loss: 0.3586 - accuracy: 0.8890 - val_loss: 0.8754 - val_accuracy: 0.7526\n",
            "Epoch 4/10\n",
            "235/235 [==============================] - 2s 9ms/step - loss: 0.2873 - accuracy: 0.9089 - val_loss: 0.7879 - val_accuracy: 0.7673\n",
            "Epoch 5/10\n",
            "235/235 [==============================] - 2s 9ms/step - loss: 0.2420 - accuracy: 0.9236 - val_loss: 0.7987 - val_accuracy: 0.7804\n",
            "Epoch 6/10\n",
            "235/235 [==============================] - 2s 9ms/step - loss: 0.1966 - accuracy: 0.9378 - val_loss: 0.8166 - val_accuracy: 0.7806\n",
            "Epoch 7/10\n",
            "235/235 [==============================] - 2s 9ms/step - loss: 0.1717 - accuracy: 0.9450 - val_loss: 0.8428 - val_accuracy: 0.7813\n",
            "Epoch 8/10\n",
            "235/235 [==============================] - 2s 9ms/step - loss: 0.1484 - accuracy: 0.9519 - val_loss: 0.8732 - val_accuracy: 0.7917\n",
            "Epoch 9/10\n",
            "235/235 [==============================] - 2s 9ms/step - loss: 0.1270 - accuracy: 0.9581 - val_loss: 0.9411 - val_accuracy: 0.7773\n",
            "Epoch 10/10\n",
            "235/235 [==============================] - 2s 9ms/step - loss: 0.1111 - accuracy: 0.9649 - val_loss: 0.8523 - val_accuracy: 0.7995\n",
            "Epoch 1/10\n",
            "235/235 [==============================] - 3s 12ms/step - loss: 0.9393 - accuracy: 0.6958 - val_loss: 0.9987 - val_accuracy: 0.6975\n",
            "Epoch 2/10\n",
            "235/235 [==============================] - 3s 11ms/step - loss: 0.4486 - accuracy: 0.8596 - val_loss: 0.8651 - val_accuracy: 0.7382\n",
            "Epoch 3/10\n",
            "235/235 [==============================] - 3s 11ms/step - loss: 0.3205 - accuracy: 0.8997 - val_loss: 0.7838 - val_accuracy: 0.7660\n",
            "Epoch 4/10\n",
            "235/235 [==============================] - 2s 11ms/step - loss: 0.2526 - accuracy: 0.9188 - val_loss: 0.7866 - val_accuracy: 0.7825\n",
            "Epoch 5/10\n",
            "235/235 [==============================] - 2s 10ms/step - loss: 0.2018 - accuracy: 0.9356 - val_loss: 0.8312 - val_accuracy: 0.7874\n",
            "Epoch 6/10\n",
            "235/235 [==============================] - 3s 11ms/step - loss: 0.1629 - accuracy: 0.9466 - val_loss: 0.8082 - val_accuracy: 0.7896\n",
            "Epoch 7/10\n",
            "235/235 [==============================] - 3s 11ms/step - loss: 0.1385 - accuracy: 0.9537 - val_loss: 0.8571 - val_accuracy: 0.7901\n",
            "Epoch 8/10\n",
            "235/235 [==============================] - 3s 11ms/step - loss: 0.1225 - accuracy: 0.9592 - val_loss: 0.8752 - val_accuracy: 0.7911\n",
            "Epoch 9/10\n",
            "235/235 [==============================] - 2s 11ms/step - loss: 0.1056 - accuracy: 0.9644 - val_loss: 0.9222 - val_accuracy: 0.8069\n",
            "Epoch 10/10\n",
            "235/235 [==============================] - 2s 11ms/step - loss: 0.0857 - accuracy: 0.9706 - val_loss: 0.9928 - val_accuracy: 0.8026\n",
            "Epoch 1/10\n",
            "235/235 [==============================] - 3s 12ms/step - loss: 0.9670 - accuracy: 0.6812 - val_loss: 1.0562 - val_accuracy: 0.6875\n",
            "Epoch 2/10\n",
            "235/235 [==============================] - 3s 13ms/step - loss: 0.4607 - accuracy: 0.8560 - val_loss: 0.8507 - val_accuracy: 0.7437\n",
            "Epoch 3/10\n",
            "235/235 [==============================] - 3s 12ms/step - loss: 0.3346 - accuracy: 0.8929 - val_loss: 0.7476 - val_accuracy: 0.7785\n",
            "Epoch 4/10\n",
            "235/235 [==============================] - 3s 13ms/step - loss: 0.2628 - accuracy: 0.9155 - val_loss: 0.8159 - val_accuracy: 0.7725\n",
            "Epoch 5/10\n",
            "235/235 [==============================] - 3s 13ms/step - loss: 0.2113 - accuracy: 0.9329 - val_loss: 0.7385 - val_accuracy: 0.7936\n",
            "Epoch 6/10\n",
            "235/235 [==============================] - 3s 11ms/step - loss: 0.1721 - accuracy: 0.9438 - val_loss: 0.8070 - val_accuracy: 0.7830\n",
            "Epoch 7/10\n",
            "235/235 [==============================] - 3s 13ms/step - loss: 0.1471 - accuracy: 0.9518 - val_loss: 0.7538 - val_accuracy: 0.8059\n",
            "Epoch 8/10\n",
            "235/235 [==============================] - 3s 13ms/step - loss: 0.1273 - accuracy: 0.9562 - val_loss: 0.8199 - val_accuracy: 0.7982\n",
            "Epoch 9/10\n",
            "235/235 [==============================] - 3s 13ms/step - loss: 0.1146 - accuracy: 0.9613 - val_loss: 0.8005 - val_accuracy: 0.8064\n",
            "Epoch 10/10\n",
            "235/235 [==============================] - 3s 11ms/step - loss: 0.0975 - accuracy: 0.9677 - val_loss: 0.8159 - val_accuracy: 0.8080\n"
          ]
        }
      ]
    },
    {
      "cell_type": "code",
      "source": [
        "for i, history in enumerate(nn.history_list):\n",
        "  if i == 0:\n",
        "    plt.plot(history.history['accuracy'], color=\"blue\", label=\"train\")\n",
        "    plt.plot(history.history['val_accuracy'], color=\"green\", label=\"test\")\n",
        "  else:\n",
        "    plt.plot(history.history['accuracy'], color=\"blue\")\n",
        "    plt.plot(history.history['val_accuracy'], color=\"green\")\n",
        "plt.legend()\n",
        "plt.show()"
      ],
      "metadata": {
        "colab": {
          "base_uri": "https://localhost:8080/",
          "height": 265
        },
        "id": "e2iCl2DlHZ66",
        "outputId": "2e2f5019-ca6f-4289-836c-55029d19f7a9"
      },
      "execution_count": 53,
      "outputs": [
        {
          "output_type": "display_data",
          "data": {
            "text/plain": [
              "<Figure size 432x288 with 1 Axes>"
            ],
            "image/png": "[encoded data removed]"
          },
          "metadata": {
            "needs_background": "light"
          }
        }
      ]
    },
    {
      "cell_type": "code",
      "source": [
        "nn.evaluate()\n"
      ],
      "metadata": {
        "colab": {
          "base_uri": "https://localhost:8080/"
        },
        "id": "IZKPH2N_K_js",
        "outputId": "19798747-b23a-4655-d6de-84eac10a81c8"
      },
      "execution_count": 54,
      "outputs": [
        {
          "output_type": "stream",
          "name": "stdout",
          "text": [
            "Average Training Accuracy: 0.954\n",
            "Average Test Accuracy: 0.782\n"
          ]
        }
      ]
    },
    {
      "cell_type": "code",
      "source": [
        "(nn.model_list[1]).predict(test_X)  #### to get each model"
      ],
      "metadata": {
        "id": "z5xRnN7GZQO6",
        "outputId": "98b80f12-60fa-4ec4-c9de-0fb7957ecaed",
        "colab": {
          "base_uri": "https://localhost:8080/"
        }
      },
      "execution_count": 65,
      "outputs": [
        {
          "output_type": "execute_result",
          "data": {
            "text/plain": [
              "array([[1.45028600e-09, 1.20411823e-11, 1.31228823e-08, ...,\n",
              "        1.30344374e-10, 4.95098493e-06, 5.17757712e-07],\n",
              "       [1.33126704e-07, 2.63211092e-07, 8.03248986e-05, ...,\n",
              "        9.99593794e-01, 5.50472464e-07, 1.93335683e-04],\n",
              "       [5.60729120e-07, 1.10590204e-09, 6.68793865e-09, ...,\n",
              "        9.12937637e-09, 3.68701760e-03, 1.95170287e-05],\n",
              "       ...,\n",
              "       [3.65892083e-05, 5.89481068e-12, 4.39135391e-07, ...,\n",
              "        5.31683164e-03, 7.11073014e-08, 9.93634701e-01],\n",
              "       [9.78341532e-08, 1.04795696e-07, 1.39971823e-03, ...,\n",
              "        7.72579515e-04, 1.93726737e-02, 9.47011828e-01],\n",
              "       [2.48640049e-06, 4.09344739e-06, 1.56629233e-06, ...,\n",
              "        2.07486097e-02, 8.33396858e-04, 2.54667527e-03]], dtype=float32)"
            ]
          },
          "metadata": {},
          "execution_count": 65
        }
      ]
    }
  ]
}